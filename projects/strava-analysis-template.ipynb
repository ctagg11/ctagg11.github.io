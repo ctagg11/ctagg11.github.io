{
  "cells": [
    {
      "cell_type": "markdown",
      "metadata": {},
      "source": [
        "# Analyzing My Strava Running Data\n",
        "\n",
        "**Author:** Charlie Taggart  \n",
        "**Date:** January 2025  \n",
        "**Tags:** Python, Data Analysis, Visualization, Strava API\n",
        "\n",
        "## Overview\n",
        "\n",
        "In this project, I analyze my personal running data from Strava to uncover patterns in my training habits, performance trends, and the relationship between various metrics.\n",
        "\n",
        "**Questions to answer:**\n",
        "- Am I getting faster over time?\n",
        "- What days do I run most frequently?\n",
        "- How does elevation affect my pace?\n"
      ]
    },
    {
      "cell_type": "code",
      "execution_count": null,
      "metadata": {},
      "outputs": [],
      "source": [
        "# Import libraries\n",
        "import pandas as pd\n",
        "import numpy as np\n",
        "import matplotlib.pyplot as plt\n",
        "import seaborn as sns\n",
        "from datetime import datetime\n",
        "\n",
        "# Set visualization style\n",
        "plt.style.use('seaborn-v0_8')\n",
        "sns.set_palette(\"husl\")\n",
        "\n",
        "print(\"✅ Libraries imported successfully\")\n"
      ]
    }
  ],
  "metadata": {
    "language_info": {
      "name": "python"
    }
  },
  "nbformat": 4,
  "nbformat_minor": 2
}
